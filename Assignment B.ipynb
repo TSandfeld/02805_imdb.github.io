{
 "cells": [
  {
   "cell_type": "markdown",
   "metadata": {},
   "source": [
    "# TO DO:\n",
    "\n",
    "## Graph\n",
    "\n",
    "### What needs to be done:\n",
    "* Look at a movie and its neigbors. Determine if the actors 'makes' the movie or if it's another factor by looking at IMDB ratings.\n",
    "* Detect communities and relate to genres. Does communities have the same genres? If so which actors is only 'doing' that genre?\n",
    "* Network of actors connected by movies\n",
    "* Relate betweenness centrality to IMDB score. (Betweenness must say something about the versatility of an actor and his genres)\n",
    "* Look at directors - do they use the same actors?\n",
    "\n",
    "## Plots\n",
    "\n",
    "### What needs to be done:\n",
    "* \n",
    "\n",
    "## Sentiment\n",
    "\n",
    "### What needs to be done:\n",
    "* Use LabMT wordlist to find sentiment of scripts. \n",
    "\n",
    "## Text Analysis\n",
    "\n",
    "### What needs to be done:\n",
    "* "
   ]
  },
  {
   "cell_type": "markdown",
   "metadata": {},
   "source": [
    "# Motivation\n",
    "* What is your dataset?\n",
    "* Why did you choose this/these particular dataset(s)?\n",
    "* What was your goal for the end user's experience?\n",
    "\n",
    "# Basic stats. Let's understand the dataset better\n",
    "* Write about your choices in data cleaning and preprocessing\n",
    "* Write a short section that discusses the dataset stats (here you can recycle the work you did for Project Assignment A)\n",
    "\n",
    "# Theory. Which theoretical tools did you use?\n",
    "* Describe which network science tools and data analysis strategies you've used, how those network science measures work, and why the tools you've chosen are right for the problem you're solving.\n",
    "* Talk about how you've worked with text, including regular expressions, unicode, etc.\n",
    "\n",
    "# Discussion. Think critically about your creation\n",
    "* What went well?,\n",
    "* What is still missing? What could be improved?, Why?"
   ]
  },
  {
   "cell_type": "code",
   "execution_count": null,
   "metadata": {
    "collapsed": true
   },
   "outputs": [],
   "source": []
  }
 ],
 "metadata": {
  "kernelspec": {
   "display_name": "Python [Root]",
   "language": "python",
   "name": "Python [Root]"
  },
  "language_info": {
   "codemirror_mode": {
    "name": "ipython",
    "version": 2
   },
   "file_extension": ".py",
   "mimetype": "text/x-python",
   "name": "python",
   "nbconvert_exporter": "python",
   "pygments_lexer": "ipython2",
   "version": "2.7.12"
  }
 },
 "nbformat": 4,
 "nbformat_minor": 0
}
